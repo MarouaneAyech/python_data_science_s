{
 "cells": [
  {
   "cell_type": "markdown",
   "metadata": {},
   "source": [
    "<b>Exercice 1</b>\n",
    "\n",
    "Soit les dates de naissance des employés dans une entreprise:\n",
    "\n",
    "        13/11/1978, 12/10/2001, 10/09/1991, 31/01/1980, 14/01/1993"
   ]
  },
  {
   "cell_type": "markdown",
   "metadata": {},
   "source": [
    "Ecrire un code qui permet de saisir les dates ci-dessus en une seule ligne séparées par de virgule avec éventuellement des espaces. "
   ]
  },
  {
   "cell_type": "code",
   "execution_count": 2,
   "metadata": {},
   "outputs": [
    {
     "data": {
      "text/plain": [
       "'13/11/1978, 12/10/2001, 10/09/1991, 31/01/1980, 14/01/1993'"
      ]
     },
     "execution_count": 2,
     "metadata": {},
     "output_type": "execute_result"
    }
   ],
   "source": [
    "s=input('Entrer les dates séparées par virgule :')\n",
    "s"
   ]
  },
  {
   "cell_type": "markdown",
   "metadata": {},
   "source": [
    "Récupérer les dates à partir de la chaine saisie "
   ]
  },
  {
   "cell_type": "code",
   "execution_count": 3,
   "metadata": {},
   "outputs": [
    {
     "data": {
      "text/plain": [
       "['13/11/1978', '12/10/2001', '10/09/1991', '31/01/1980', '14/01/1993']"
      ]
     },
     "execution_count": 3,
     "metadata": {},
     "output_type": "execute_result"
    }
   ],
   "source": [
    "dates=s.replace(\" \",\"\").split(\",\")\n",
    "dates"
   ]
  },
  {
   "cell_type": "markdown",
   "metadata": {},
   "source": [
    "Convertir les dates dans la liste en type datetime"
   ]
  },
  {
   "cell_type": "markdown",
   "metadata": {},
   "source": [
    "Manière 1 : en utilisant Boucle for"
   ]
  },
  {
   "cell_type": "code",
   "execution_count": 4,
   "metadata": {},
   "outputs": [],
   "source": [
    "from datetime import datetime\n",
    "for i in range(len(dates)):\n",
    "    dates[i]=datetime.strptime(dates[i],'%d/%m/%Y')"
   ]
  },
  {
   "cell_type": "markdown",
   "metadata": {},
   "source": [
    "Manière 2 : en utilisant List comprehension"
   ]
  },
  {
   "cell_type": "code",
   "execution_count": 7,
   "metadata": {},
   "outputs": [],
   "source": [
    "dates = [datetime.strptime(date,'%d/%m/%Y') for date in dates]"
   ]
  },
  {
   "cell_type": "markdown",
   "metadata": {},
   "source": [
    "Manière 3 : en utilisant Map"
   ]
  },
  {
   "cell_type": "code",
   "execution_count": 8,
   "metadata": {},
   "outputs": [],
   "source": [
    "dates=list(map(lambda date : datetime.strptime(date,'%d/%m/%Y'), dates))"
   ]
  },
  {
   "cell_type": "markdown",
   "metadata": {},
   "source": [
    "Calculer les ages des employes dans une liste ages"
   ]
  },
  {
   "cell_type": "code",
   "execution_count": 9,
   "metadata": {},
   "outputs": [],
   "source": [
    "ages=[]\n",
    "for i in range(len(dates)):\n",
    "    age=datetime.now().year-dates[i].year\n",
    "    ages.append(age)"
   ]
  },
  {
   "cell_type": "code",
   "execution_count": 10,
   "metadata": {},
   "outputs": [
    {
     "data": {
      "text/plain": [
       "[46, 23, 33, 44, 31]"
      ]
     },
     "execution_count": 10,
     "metadata": {},
     "output_type": "execute_result"
    }
   ],
   "source": [
    "ages"
   ]
  },
  {
   "cell_type": "markdown",
   "metadata": {},
   "source": [
    "Déterminer l'âge minimal, l'âge maximal et l'âge moyen en utilisant numpy"
   ]
  },
  {
   "cell_type": "code",
   "execution_count": 22,
   "metadata": {},
   "outputs": [
    {
     "data": {
      "text/plain": [
       "array([46, 23, 33, 44, 31])"
      ]
     },
     "execution_count": 22,
     "metadata": {},
     "output_type": "execute_result"
    }
   ],
   "source": [
    "# Convertir la liste des ages en un array numpy\n",
    "# pour profiter des fonctions prédéfinies de calcul de max, min, mean, ....\n",
    "import numpy as np\n",
    "ages=np.array(ages)\n",
    "ages"
   ]
  },
  {
   "cell_type": "code",
   "execution_count": 18,
   "metadata": {},
   "outputs": [
    {
     "data": {
      "text/plain": [
       "23"
      ]
     },
     "execution_count": 18,
     "metadata": {},
     "output_type": "execute_result"
    }
   ],
   "source": [
    "age_min=ages.min()\n",
    "age_min"
   ]
  },
  {
   "cell_type": "code",
   "execution_count": 19,
   "metadata": {},
   "outputs": [
    {
     "data": {
      "text/plain": [
       "46"
      ]
     },
     "execution_count": 19,
     "metadata": {},
     "output_type": "execute_result"
    }
   ],
   "source": [
    "age_max=ages.max()\n",
    "age_max"
   ]
  },
  {
   "cell_type": "code",
   "execution_count": 20,
   "metadata": {},
   "outputs": [
    {
     "data": {
      "text/plain": [
       "35.4"
      ]
     },
     "execution_count": 20,
     "metadata": {},
     "output_type": "execute_result"
    }
   ],
   "source": [
    "age_mean=ages.mean()\n",
    "age_mean"
   ]
  },
  {
   "cell_type": "markdown",
   "metadata": {},
   "source": [
    "Déterminer le nombre des employés au-dessous et au-dessus de la moyenne d'age"
   ]
  },
  {
   "cell_type": "code",
   "execution_count": 29,
   "metadata": {},
   "outputs": [
    {
     "name": "stdout",
     "output_type": "stream",
     "text": [
      "Nombre d'employés au-dessus de la moyenne: 2\n",
      "Nombre d'employés au-dessous de la moyenne: 3\n"
     ]
    }
   ],
   "source": [
    "# La fonction np.sum()calcule le nombres des valeurs True dans un vecteur de valeurs booléennes\n",
    "count_dessus=np.sum(ages>=age_mean)\n",
    "count_dessous=np.sum(ages<age_mean)\n",
    "print('Nombre d\\'employés au-dessus de la moyenne:',count_dessus)\n",
    "print('Nombre d\\'employés au-dessous de la moyenne:',count_dessous)"
   ]
  },
  {
   "cell_type": "markdown",
   "metadata": {},
   "source": [
    "<b>Exercice 2</b>\n",
    "\n",
    "Supposons qu'on dispose des infos (age et salaire) d'un éhantillon de 5 employés d'une entreprise.\n",
    "\n",
    "        Nom Age Salaire\n",
    "        Ahmed 25 1600.65\n",
    "        Sonia 28 2100.76\n",
    "        Rahma 39 2400.65\n",
    "        Salma 45 3100.87"
   ]
  },
  {
   "cell_type": "markdown",
   "metadata": {},
   "source": [
    "1. Représenter les noms et les infos des employés avec les structures adéquats (Les en déduire des questions ultérieures)"
   ]
  },
  {
   "cell_type": "code",
   "execution_count": 27,
   "metadata": {},
   "outputs": [
    {
     "data": {
      "text/plain": [
       "array([[  25.  , 1600.65],\n",
       "       [  28.  , 2100.76],\n",
       "       [  39.  , 2400.65],\n",
       "       [  45.  , 3100.87]])"
      ]
     },
     "execution_count": 27,
     "metadata": {},
     "output_type": "execute_result"
    }
   ],
   "source": [
    "import numpy as np\n",
    "noms=['Ahmed','Sonia','Rahma','Salma']\n",
    "infos=np.array([[25,1600.65],[28,2100.76],[39,2400.65],[45,3100.87]])\n",
    "infos"
   ]
  },
  {
   "cell_type": "markdown",
   "metadata": {},
   "source": [
    "2. Répondre aux questions suivantes :\n",
    "- Note : utiliser numpy pour répondre par une seule ligne de code !"
   ]
  },
  {
   "cell_type": "markdown",
   "metadata": {},
   "source": [
    "Déterminer l'age maximal de la population"
   ]
  },
  {
   "cell_type": "code",
   "execution_count": 3,
   "metadata": {},
   "outputs": [
    {
     "data": {
      "text/plain": [
       "45.0"
      ]
     },
     "execution_count": 3,
     "metadata": {},
     "output_type": "execute_result"
    }
   ],
   "source": [
    "infos[:,0].max()"
   ]
  },
  {
   "cell_type": "markdown",
   "metadata": {},
   "source": [
    "Déterminer l'employé le plus agé"
   ]
  },
  {
   "cell_type": "code",
   "execution_count": 5,
   "metadata": {},
   "outputs": [
    {
     "data": {
      "text/plain": [
       "'Salma'"
      ]
     },
     "execution_count": 5,
     "metadata": {},
     "output_type": "execute_result"
    }
   ],
   "source": [
    "noms[infos[:,0].argmax()]"
   ]
  },
  {
   "cell_type": "markdown",
   "metadata": {},
   "source": [
    "Déterminer le salaire le plus faible"
   ]
  },
  {
   "cell_type": "code",
   "execution_count": 7,
   "metadata": {},
   "outputs": [
    {
     "data": {
      "text/plain": [
       "1600.65"
      ]
     },
     "execution_count": 7,
     "metadata": {},
     "output_type": "execute_result"
    }
   ],
   "source": [
    "infos[:,1].min()"
   ]
  },
  {
   "cell_type": "markdown",
   "metadata": {},
   "source": [
    "Déterminer l'employé le moins rénuméré"
   ]
  },
  {
   "cell_type": "code",
   "execution_count": 8,
   "metadata": {},
   "outputs": [
    {
     "data": {
      "text/plain": [
       "'Ahmed'"
      ]
     },
     "execution_count": 8,
     "metadata": {},
     "output_type": "execute_result"
    }
   ],
   "source": [
    "noms[infos[:,1].argmin()]"
   ]
  },
  {
   "cell_type": "markdown",
   "metadata": {},
   "source": [
    "Déterminer les employés ayant un salaire >=2000\n",
    "- Au debut, faut penser à convertir la liste des noms en un array numpy pour pourvoir lui appliquer un filtrage ! \n",
    "\n",
    "        np.array(noms)\n",
    "- `infos[:,1]>=2000` donne un vecteur booléen (filtre) : `[False,True,True,True]`\n",
    "\n",
    "- Solution 1: Appliquer ce filtre sur np.array(noms)\n",
    "- Solution 2 : Déterminer les idnices en se basant sur le filtre puis filtrer np.array(noms)\n",
    "- A la fin, penser à reconvertir l'array des noms filtrés en type `list` avec la fonction `list()`"
   ]
  },
  {
   "cell_type": "code",
   "execution_count": 21,
   "metadata": {},
   "outputs": [
    {
     "data": {
      "text/plain": [
       "['Sonia', 'Rahma', 'Salma']"
      ]
     },
     "execution_count": 21,
     "metadata": {},
     "output_type": "execute_result"
    }
   ],
   "source": [
    "# solution 1\n",
    "list(np.array(noms)[infos[:,1]>=2000])"
   ]
  },
  {
   "cell_type": "code",
   "execution_count": 33,
   "metadata": {},
   "outputs": [
    {
     "data": {
      "text/plain": [
       "['Sonia', 'Rahma', 'Salma']"
      ]
     },
     "execution_count": 33,
     "metadata": {},
     "output_type": "execute_result"
    }
   ],
   "source": [
    "# solution 2\n",
    "list(np.array(noms)[np.where(infos[:,1]>=2000)[0]])"
   ]
  }
 ],
 "metadata": {
  "kernelspec": {
   "display_name": "venv_ds",
   "language": "python",
   "name": "python3"
  },
  "language_info": {
   "codemirror_mode": {
    "name": "ipython",
    "version": 3
   },
   "file_extension": ".py",
   "mimetype": "text/x-python",
   "name": "python",
   "nbconvert_exporter": "python",
   "pygments_lexer": "ipython3",
   "version": "3.8.3"
  }
 },
 "nbformat": 4,
 "nbformat_minor": 2
}
