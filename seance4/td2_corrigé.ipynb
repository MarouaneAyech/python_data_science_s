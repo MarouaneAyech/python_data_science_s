{
 "cells": [
  {
   "cell_type": "markdown",
   "metadata": {},
   "source": [
    "<h3>TD n°2 : Concepts fondamentaux en Programmation Python</h3>"
   ]
  },
  {
   "cell_type": "markdown",
   "metadata": {},
   "source": [
    "<span style=\"color:blue;\">\n",
    "<b>Exercice 1:</b>\n",
    "\n",
    "L'objectif de cet exercice est de maitriser le concept de datetime.\n",
    "\n",
    "On veut saisir les noms ainsi que les dates de naissance de plusieurs personnes. Puis, on va leurs faire des simples statistiques.\n",
    "</span>"
   ]
  },
  {
   "cell_type": "markdown",
   "metadata": {},
   "source": [
    "1. Déclarer un dictionnaire vide appelé <font color=\"red\">dates_naissance</font>"
   ]
  },
  {
   "cell_type": "code",
   "execution_count": 45,
   "metadata": {},
   "outputs": [],
   "source": [
    "dates_naissance={}"
   ]
  },
  {
   "cell_type": "markdown",
   "metadata": {},
   "source": [
    "2. Définir une fonction <font color=\"red\">saisir_personne</font> qui demande à l'utilisateur de saisir son nom ainsi que sa date de naissance. Puis, elle pose la question s'il veut continuer ou non. Elle retourne 3 valeurs :\n",
    "- valeur booléenne : Vrai pour continuer la saisie ou Faux pour arrêter\n",
    "- nom de la personne\n",
    "- date de naissance\n",
    "\n",
    "Note : la date de naissance est de format 'jj-mm-yyyy'"
   ]
  },
  {
   "cell_type": "code",
   "execution_count": 46,
   "metadata": {},
   "outputs": [],
   "source": [
    "from datetime import datetime\n",
    "\n",
    "def saisir_personne():\n",
    "    nom=input('Entrez votre nom:')\n",
    "    try:\n",
    "        date_naissance=datetime.strptime(input('Entrez votre date de naissance:'),\"%d-%m-%Y\")\n",
    "    except:\n",
    "        date_naissance=None\n",
    "    continue_saisie=input('Voulez vous continuer ?')\n",
    "    if continue_saisie==\"oui\":\n",
    "        return True, nom, date_naissance\n",
    "    else:\n",
    "        return False, nom, date_naissance"
   ]
  },
  {
   "cell_type": "markdown",
   "metadata": {},
   "source": [
    "3. Utiliser la fonction  <font color=\"red\">saisir_personne</font> pour saisir les noms et dates de naissance de plusieurs personnes jusqu'à ce que l'utilisateur arrête la saisie."
   ]
  },
  {
   "cell_type": "code",
   "execution_count": 47,
   "metadata": {},
   "outputs": [],
   "source": [
    "continue_saisie=True\n",
    "while continue_saisie:\n",
    "    continue_saisie,nom,date_naissance=saisir_personne()\n",
    "    if date_naissance != None:\n",
    "        dates_naissance[nom]=date_naissance\n",
    "    else:\n",
    "        print(\"Date de naissance invalide !!\")"
   ]
  },
  {
   "cell_type": "code",
   "execution_count": 48,
   "metadata": {},
   "outputs": [
    {
     "data": {
      "text/plain": [
       "{'Ali': datetime.datetime(2000, 1, 1, 0, 0),\n",
       " 'Salma': datetime.datetime(1995, 7, 9, 0, 0),\n",
       " 'Rahma': datetime.datetime(2004, 9, 8, 0, 0)}"
      ]
     },
     "execution_count": 48,
     "metadata": {},
     "output_type": "execute_result"
    }
   ],
   "source": [
    "dates_naissance"
   ]
  },
  {
   "cell_type": "markdown",
   "metadata": {},
   "source": [
    "4. Déterminer le nom de la personne la plus jeune ainsi que la plus agée."
   ]
  },
  {
   "cell_type": "code",
   "execution_count": 49,
   "metadata": {},
   "outputs": [
    {
     "name": "stdout",
     "output_type": "stream",
     "text": [
      "Personne la plus jeune: Rahma\n",
      "Personne la plus agée: Salma\n"
     ]
    }
   ],
   "source": [
    "dn_jeune=dates_naissance['Ali']\n",
    "nom_jeune='Ali'\n",
    "dn_agee=dates_naissance['Ali']\n",
    "nom_agee='Ali'\n",
    "for nom,dn in dates_naissance.items():\n",
    "    if dn>dn_jeune:\n",
    "        dn_jeune=dn\n",
    "        nom_jeune=nom\n",
    "    if dn<dn_agee:\n",
    "        dn_agee=dn\n",
    "        nom_agee=nom\n",
    "print('Personne la plus jeune:',nom_jeune)\n",
    "print('Personne la plus agée:',nom_agee)"
   ]
  },
  {
   "cell_type": "markdown",
   "metadata": {},
   "source": [
    "5. Définir une fonction  <font color=\"red\">calculer_age</font> qui calcule l'âge d'une personne étant donné la date de naissance."
   ]
  },
  {
   "cell_type": "code",
   "execution_count": 50,
   "metadata": {},
   "outputs": [],
   "source": [
    "def calculer_age(date_naissance):\n",
    "    return datetime.now().year-date_naissance.year"
   ]
  },
  {
   "cell_type": "markdown",
   "metadata": {},
   "source": [
    "6. Calculer les âges de toutes les personnes et les mettre dans un dictionnaire  <font color=\"red\">ages</font>."
   ]
  },
  {
   "cell_type": "code",
   "execution_count": 51,
   "metadata": {},
   "outputs": [],
   "source": [
    "ages={}\n",
    "for nom,dn in dates_naissance.items():\n",
    "    ages[nom]=calculer_age(dn)"
   ]
  },
  {
   "cell_type": "code",
   "execution_count": 52,
   "metadata": {},
   "outputs": [
    {
     "data": {
      "text/plain": [
       "{'Ali': 24, 'Salma': 29, 'Rahma': 20}"
      ]
     },
     "execution_count": 52,
     "metadata": {},
     "output_type": "execute_result"
    }
   ],
   "source": [
    "ages"
   ]
  },
  {
   "cell_type": "markdown",
   "metadata": {},
   "source": [
    "7. Déterminer l'âge moyenne des personnes.\n",
    "\n",
    "Puis, dire combien de personnes sont au-dessous et au-dessus de l'âge moyenne."
   ]
  },
  {
   "cell_type": "code",
   "execution_count": 53,
   "metadata": {},
   "outputs": [
    {
     "data": {
      "text/plain": [
       "24.333333333333332"
      ]
     },
     "execution_count": 53,
     "metadata": {},
     "output_type": "execute_result"
    }
   ],
   "source": [
    "# Calcul de la moyenne d'age : Manière 1\n",
    "s=0\n",
    "for nom,age in ages.items():\n",
    "    s+=age\n",
    "moyenne=s/len(ages)\n",
    "moyenne"
   ]
  },
  {
   "cell_type": "code",
   "execution_count": 54,
   "metadata": {},
   "outputs": [
    {
     "data": {
      "text/plain": [
       "24.333333333333332"
      ]
     },
     "execution_count": 54,
     "metadata": {},
     "output_type": "execute_result"
    }
   ],
   "source": [
    "# Calcul de la moyenne d'age : Manière 2 en utilisant reduce\n",
    "from functools import reduce\n",
    "s=reduce(lambda x,y : x+y, ages.values())\n",
    "moyenne=s/len(ages)\n",
    "moyenne"
   ]
  },
  {
   "cell_type": "code",
   "execution_count": 55,
   "metadata": {},
   "outputs": [
    {
     "name": "stdout",
     "output_type": "stream",
     "text": [
      "Nombre de personnes au-dessous de la moyenne d'age 2\n",
      "Nombre de personnes au-dessus de la moyenne d'age 1\n"
     ]
    }
   ],
   "source": [
    "# nb de personnes au-dessous et au-dessus de la moyenne d'age : Manière 1\n",
    "count_dessous=0\n",
    "count_dessus=0\n",
    "for nom,age in ages.items():\n",
    "    if age>=moyenne:\n",
    "        count_dessus+=1\n",
    "    else:\n",
    "        count_dessous+=1\n",
    "print('Nombre de personnes au-dessous de la moyenne d\\'age',count_dessous)\n",
    "print('Nombre de personnes au-dessus de la moyenne d\\'age',count_dessus)"
   ]
  },
  {
   "cell_type": "code",
   "execution_count": 89,
   "metadata": {},
   "outputs": [
    {
     "name": "stdout",
     "output_type": "stream",
     "text": [
      "Nombre de personnes au-dessous de la moyenne d'age 2\n",
      "Nombre de personnes au-dessus de la moyenne d'age 1\n"
     ]
    }
   ],
   "source": [
    "# nb de personnes au-dessous et au-dessus de la moyenne d'age : Manière 2 en utilisant filter\n",
    "ages_au_dessus=list(filter(lambda age: age>=moyenne, ages.values()))\n",
    "ages_au_dessous=list(filter(lambda age: age<moyenne, ages.values()))\n",
    "count_dessus=len(ages_au_dessus)\n",
    "count_dessous=len(ages_au_dessous)\n",
    "print('Nombre de personnes au-dessous de la moyenne d\\'age',count_dessous)\n",
    "print('Nombre de personnes au-dessus de la moyenne d\\'age',count_dessus)"
   ]
  },
  {
   "cell_type": "markdown",
   "metadata": {},
   "source": [
    "<span style=\"color:blue;\">\n",
    "<b>Exercice 2:</b>\n",
    "\n",
    "<u>Objectifs:</u>\n",
    "- Savoir définir une classe en Python.\n",
    "- Surcharger des méthodes prédéfinies : `__init__` , `__str__` et des opérateurs comme `__eq__`\n",
    "\n",
    "<u>Travaul demandé:</u>\n",
    "- On veut définir une classe `Ville` qui représente une ville métropolitaine. \n",
    "- Une ville est caractérisée par :\n",
    "    - nom de la ville\n",
    "    - indice de pollution : indice entre 0 et 100 qui reflète le degré de pollution dans la ville (0 très bon et 100 très mauvais).\n",
    "    - population : nombre des résidents dans la ville (en millions de personnes)\n",
    "\n",
    "<u>Questions :</u>\n",
    "</span>"
   ]
  },
  {
   "cell_type": "markdown",
   "metadata": {},
   "source": [
    "1. Dans cette classe `Ville`, définir la méthode suivante :\n",
    "- `__init__` : \n",
    "    - C'est le constructeur qui initialise les informations d'un objet `Ville`\n",
    "    - Il est appelé systématiquement lors de la crétaion d'un objet de la classe `Ville`"
   ]
  },
  {
   "cell_type": "code",
   "execution_count": 1,
   "metadata": {},
   "outputs": [],
   "source": [
    "class Ville:\n",
    "    def __init__(self, nom : str, indice : float, population : float):\n",
    "        self.nom=nom\n",
    "        self.indice=indice\n",
    "        self.population=population"
   ]
  },
  {
   "cell_type": "markdown",
   "metadata": {},
   "source": [
    "<u>Observation et Interprétation</u>\n",
    "\n",
    "<br> Après avoir défini le constructeur, exécuter les bouts de codes ci-dessous, et interpréter."
   ]
  },
  {
   "cell_type": "markdown",
   "metadata": {},
   "source": [
    "Convertir un objet ville en chaine de caractères en utilisant la fonction `str()`"
   ]
  },
  {
   "cell_type": "code",
   "execution_count": 2,
   "metadata": {},
   "outputs": [],
   "source": [
    "# Création d'un objet de la classe Ville\n",
    "v1=Ville('Tokyo',20,10.560)"
   ]
  },
  {
   "cell_type": "code",
   "execution_count": 3,
   "metadata": {},
   "outputs": [
    {
     "data": {
      "text/plain": [
       "'<__main__.Ville object at 0x0000024BB5552A00>'"
      ]
     },
     "execution_count": 3,
     "metadata": {},
     "output_type": "execute_result"
    }
   ],
   "source": [
    "# Convertir une ville en str\n",
    "str(v1)"
   ]
  },
  {
   "cell_type": "markdown",
   "metadata": {},
   "source": [
    "Afficher les informations d'une ville en utilisant la fonction `print()`"
   ]
  },
  {
   "cell_type": "code",
   "execution_count": 4,
   "metadata": {},
   "outputs": [
    {
     "name": "stdout",
     "output_type": "stream",
     "text": [
      "<__main__.Ville object at 0x0000024BB5552A00>\n"
     ]
    }
   ],
   "source": [
    "print(v1)"
   ]
  },
  {
   "cell_type": "markdown",
   "metadata": {},
   "source": [
    "Comparer deux objets ayant les mêmes informations de ville"
   ]
  },
  {
   "cell_type": "code",
   "execution_count": 5,
   "metadata": {},
   "outputs": [],
   "source": [
    "# Créer un deuxième objet de la classe Ville représentant les mêmes informations de la ville\n",
    "v2=Ville('Tokyo',20,10.560)"
   ]
  },
  {
   "cell_type": "code",
   "execution_count": 6,
   "metadata": {},
   "outputs": [
    {
     "data": {
      "text/plain": [
       "False"
      ]
     },
     "execution_count": 6,
     "metadata": {},
     "output_type": "execute_result"
    }
   ],
   "source": [
    "# Comparer les deux objets v1 et v2\n",
    "v1==v2"
   ]
  },
  {
   "cell_type": "markdown",
   "metadata": {},
   "source": [
    "Interpréter ?"
   ]
  },
  {
   "cell_type": "markdown",
   "metadata": {},
   "source": [
    "2. Dans la classe `Ville`, ajouter la méthode :\n",
    "- `__str__` :  \n",
    "    - Il s'agit d'une méthode prédéfinie en Python qu'on va surcharger. \n",
    "    - Elle n'a pas d'arguments.\n",
    "    - Elle retourne uen chaine de caractères. Dans notre cas, la chaine retournée est une description de la ville en utilisant les attributs de la ville.\n",
    "    - Elle est appelée systémtiquement par la fonction `str()` ou `print()` lorsqu'on leurs passe un objet de la classe."
   ]
  },
  {
   "cell_type": "code",
   "execution_count": 7,
   "metadata": {},
   "outputs": [],
   "source": [
    "class Ville:\n",
    "    def __init__(self, nom, indice, population):\n",
    "        self.nom=nom\n",
    "        self.indice=indice\n",
    "        self.population=population\n",
    "    def __str__(self):\n",
    "        return \"%s[indice de pollution=%.2f,population=%.2f]\" % (self.nom, self.indice, self.population)"
   ]
  },
  {
   "cell_type": "code",
   "execution_count": 8,
   "metadata": {},
   "outputs": [],
   "source": [
    "v1=Ville('Tokyo',20,10.560)"
   ]
  },
  {
   "cell_type": "code",
   "execution_count": 9,
   "metadata": {},
   "outputs": [
    {
     "data": {
      "text/plain": [
       "'Tokyo[indice de pollution=20.00,population=10.56]'"
      ]
     },
     "execution_count": 9,
     "metadata": {},
     "output_type": "execute_result"
    }
   ],
   "source": [
    "str(v1)"
   ]
  },
  {
   "cell_type": "code",
   "execution_count": 10,
   "metadata": {},
   "outputs": [
    {
     "name": "stdout",
     "output_type": "stream",
     "text": [
      "Tokyo[indice de pollution=20.00,population=10.56] est la capitale de Japan.\n"
     ]
    }
   ],
   "source": [
    "print(v1,'est la capitale de Japan.')"
   ]
  },
  {
   "cell_type": "markdown",
   "metadata": {},
   "source": [
    "3. Dans la classe Ville, ajouter la méthode :\n",
    "- `__eq__`(self, ville) :\n",
    "    - Il s'agit d'une méthode prédéfinie en Python qu'on va surcharger.\n",
    "    - Elle a un seul argument. Dans notre cas, il s'agit d'une autre ville.\n",
    "    - Elle retourne une valeur booléenne. (True si les deux villes sont égaux sinon False).\n",
    "    - Elle permet de comparer si une ville (self) est égale à une autre (l'argument ville).\n",
    "    - Elle est appelée systématiquement si on utilise l'oéprateur `==`\n"
   ]
  },
  {
   "cell_type": "code",
   "execution_count": 11,
   "metadata": {},
   "outputs": [],
   "source": [
    "class Ville:\n",
    "    def __init__(self, nom : str, indice : float, population : float):\n",
    "        self.nom=nom\n",
    "        self.indice=indice\n",
    "        self.population=population\n",
    "    def __str__(self) -> str:\n",
    "        return \"%s[indice de pollution=%.2f,population=%.2f]\" % (self.nom, self.indice, self.population)\n",
    "    def __eq__(self, ville : Ville) -> bool :\n",
    "        if self.nom.lower()==ville.nom.lower() and self.indice==ville.indice and  self.population==ville.population:\n",
    "            return True\n",
    "        else:\n",
    "           return False"
   ]
  },
  {
   "cell_type": "code",
   "execution_count": 12,
   "metadata": {},
   "outputs": [
    {
     "data": {
      "text/plain": [
       "True"
      ]
     },
     "execution_count": 12,
     "metadata": {},
     "output_type": "execute_result"
    }
   ],
   "source": [
    "v1=Ville('TOKYO',20,10.560)\n",
    "v2=Ville('tokyo',20,10.560)\n",
    "v1==v2"
   ]
  },
  {
   "cell_type": "code",
   "execution_count": 13,
   "metadata": {},
   "outputs": [
    {
     "data": {
      "text/plain": [
       "False"
      ]
     },
     "execution_count": 13,
     "metadata": {},
     "output_type": "execute_result"
    }
   ],
   "source": [
    "v1=Ville('TOKYO',20,10.5)\n",
    "v2=Ville('tokyo',20,10.560)\n",
    "v1==v2"
   ]
  },
  {
   "cell_type": "markdown",
   "metadata": {},
   "source": [
    "4. Essayer de surcharger d'autres opérateurs de coparaison en utilisant les fonctions prédéfinies : `__lt__`, `__le__`, `__gt__`, `__ge__`"
   ]
  },
  {
   "cell_type": "code",
   "execution_count": 19,
   "metadata": {},
   "outputs": [],
   "source": [
    "class Ville:\n",
    "    def __init__(self, nom : str, indice : float, population : float):\n",
    "        self.nom=nom\n",
    "        self.indice=indice\n",
    "        self.population=population\n",
    "    def __str__(self) -> str:\n",
    "        return \"%s[indice de pollution=%.2f,population=%.2f]\" % (self.nom, self.indice, self.population)\n",
    "    def __eq__(self, ville : Ville) -> bool :\n",
    "        if self.nom.lower()==ville.nom.lower() and self.indice==ville.indice and  self.population==ville.population:\n",
    "            return True\n",
    "        else:\n",
    "           return False\n",
    "    def __lt__(self, ville : Ville)->bool:\n",
    "        if self.indice*self.population < ville.indice*ville.population:\n",
    "            return True\n",
    "        else:\n",
    "            return False\n",
    "    def __le__(self, ville : Ville)->bool:\n",
    "        if self.indice*self.population <= ville.indice*ville.population:\n",
    "            return True\n",
    "        else:\n",
    "            return False\n",
    "    def __gt__(self, ville : Ville)->bool:\n",
    "        if self.indice*self.population > ville.indice*ville.population:\n",
    "            return True\n",
    "        else:\n",
    "            return False\n",
    "    def __ge__(self, ville : Ville)->bool:\n",
    "        if self.indice*self.population >= ville.indice*ville.population:\n",
    "            return True\n",
    "        else:\n",
    "            return False"
   ]
  },
  {
   "cell_type": "code",
   "execution_count": 20,
   "metadata": {},
   "outputs": [
    {
     "data": {
      "text/plain": [
       "False"
      ]
     },
     "execution_count": 20,
     "metadata": {},
     "output_type": "execute_result"
    }
   ],
   "source": [
    "v1=Ville('TOKYO',20,10.5)\n",
    "v2=Ville('PARIS',10,15.7)\n",
    "v1<v2"
   ]
  },
  {
   "cell_type": "code",
   "execution_count": 21,
   "metadata": {},
   "outputs": [
    {
     "data": {
      "text/plain": [
       "False"
      ]
     },
     "execution_count": 21,
     "metadata": {},
     "output_type": "execute_result"
    }
   ],
   "source": [
    "v1<=v2"
   ]
  },
  {
   "cell_type": "code",
   "execution_count": 22,
   "metadata": {},
   "outputs": [
    {
     "data": {
      "text/plain": [
       "True"
      ]
     },
     "execution_count": 22,
     "metadata": {},
     "output_type": "execute_result"
    }
   ],
   "source": [
    "v1>v2"
   ]
  },
  {
   "cell_type": "code",
   "execution_count": 23,
   "metadata": {},
   "outputs": [
    {
     "data": {
      "text/plain": [
       "True"
      ]
     },
     "execution_count": 23,
     "metadata": {},
     "output_type": "execute_result"
    }
   ],
   "source": [
    "v1>=v2"
   ]
  },
  {
   "cell_type": "markdown",
   "metadata": {},
   "source": [
    "<span style=\"color:blue;\">\n",
    "<b>Exercice 3:</b>\n",
    "\n",
    "<u>Objectifs:</u>\n",
    "- Définir une classe `Villes` qui représente une `collection` de villes.\n",
    "\n",
    "\n",
    "<u>Travail demandé:</u>\n",
    "- On veut étudier la pollution et la population des villes métropolitaines : London, Paris, Tokyo et Bejing."
   ]
  },
  {
   "cell_type": "markdown",
   "metadata": {},
   "source": [
    "1. Dans cette classe `Villes`, définir la méthode suivante :\n",
    "- `__init__` : \n",
    "    - C'est le constructeur qui initialise une liste des objets de type `Ville`.\n",
    "    - Cette liste est notée `liste` et elle est intialisée comme vide.\n",
    "    - Le constructeur est appelé systématiquement lors de la crétaion d'un objet de la classe `Villes`"
   ]
  },
  {
   "cell_type": "code",
   "execution_count": 24,
   "metadata": {},
   "outputs": [],
   "source": [
    "class Villes:\n",
    "    def __init__(self):\n",
    "        self.liste  = []"
   ]
  },
  {
   "cell_type": "code",
   "execution_count": 25,
   "metadata": {},
   "outputs": [],
   "source": [
    "villes=Villes()"
   ]
  },
  {
   "cell_type": "markdown",
   "metadata": {},
   "source": [
    "2. Dans la classe `Villes`, ajouter la méthode:\n",
    "- `__len__()` :\n",
    "    - Elle ne prend pas d'argument\n",
    "    - Elle retourne la longueur de la liste des villes.\n",
    "    - Elle est appelée systémtaiquement par `len()`lorsqu'on lui passe un objet de type `Villes`."
   ]
  },
  {
   "cell_type": "code",
   "execution_count": 26,
   "metadata": {},
   "outputs": [],
   "source": [
    "class Villes:\n",
    "    def __init__(self):\n",
    "        self.liste  = []\n",
    "    def __len__(self):\n",
    "        return len(self.liste)"
   ]
  },
  {
   "cell_type": "code",
   "execution_count": 27,
   "metadata": {},
   "outputs": [],
   "source": [
    "# Créer une collection vide de villes\n",
    "villes=Villes()"
   ]
  },
  {
   "cell_type": "code",
   "execution_count": 28,
   "metadata": {},
   "outputs": [
    {
     "data": {
      "text/plain": [
       "0"
      ]
     },
     "execution_count": 28,
     "metadata": {},
     "output_type": "execute_result"
    }
   ],
   "source": [
    "# Appeler la fonction len() et lui passer en argument la collection de villes\n",
    "len(villes)"
   ]
  },
  {
   "cell_type": "markdown",
   "metadata": {},
   "source": [
    "3. Dans la classe `Villes`, ajouter la méthode :\n",
    "- `__iadd__` :\n",
    "    - Cette méthode représente l'opérateur `+=` qu'on veut surcharger\n",
    "    <br>-> Exemple: \n",
    "        - Soit `villes` objet de type `Villes`\n",
    "        - Soit `ville` objet de type `Ville`\n",
    "        - L'opération `villes += ville` est équivalente à `villes = villes.__iadd__(ville)`\n",
    "    - Elle prend comme argument un objet de type `Ville`\n",
    "    - Elle retourne `self`\n",
    "    - Elle ajoute l'objet en argument dans  la liste d'objet `liste`"
   ]
  },
  {
   "cell_type": "code",
   "execution_count": 29,
   "metadata": {},
   "outputs": [],
   "source": [
    "class Villes:\n",
    "    def __init__(self):\n",
    "        self.liste  = []\n",
    "    def __len__(self):\n",
    "        return len(self.liste)\n",
    "    def __iadd__(self, ville):\n",
    "        self.liste.append(ville)\n",
    "        return self"
   ]
  },
  {
   "cell_type": "code",
   "execution_count": 30,
   "metadata": {},
   "outputs": [],
   "source": [
    "# Créer une collection vide de villes\n",
    "villes=Villes()"
   ]
  },
  {
   "cell_type": "code",
   "execution_count": 31,
   "metadata": {},
   "outputs": [
    {
     "data": {
      "text/plain": [
       "0"
      ]
     },
     "execution_count": 31,
     "metadata": {},
     "output_type": "execute_result"
    }
   ],
   "source": [
    "# longueur de la collection des villes\n",
    "len(villes)"
   ]
  },
  {
   "cell_type": "code",
   "execution_count": 32,
   "metadata": {},
   "outputs": [],
   "source": [
    "# Ajouter une ville à la colelction\n",
    "v1 = Ville('Tokyo',20,13)\n",
    "villes += v1"
   ]
  },
  {
   "cell_type": "code",
   "execution_count": 33,
   "metadata": {},
   "outputs": [
    {
     "data": {
      "text/plain": [
       "1"
      ]
     },
     "execution_count": 33,
     "metadata": {},
     "output_type": "execute_result"
    }
   ],
   "source": [
    "# longueur de la collection des villes\n",
    "len(villes)"
   ]
  },
  {
   "cell_type": "markdown",
   "metadata": {},
   "source": [
    "4. Dans la classe `Villes`, ajouter la méthode suivante :\n",
    "- `__str__` :\n",
    "    - Elle n'a pas d'argument.\n",
    "    - Elle retourne une chaine de caractères qui décrit la collection des villes."
   ]
  },
  {
   "cell_type": "code",
   "execution_count": 34,
   "metadata": {},
   "outputs": [],
   "source": [
    "class Villes:\n",
    "    def __init__(self):\n",
    "        self.liste  = []\n",
    "    def __len__(self):\n",
    "        return len(self.liste)\n",
    "    def __iadd__(self, autre_ville):\n",
    "        # Vérifiez si l'objet que vous essayez d'ajouter est une instance de Ville\n",
    "        if not isinstance(autre_ville, Ville):\n",
    "            raise TypeError(\"L'objet ajouté doit être une instance de la classe Ville\")\n",
    "        self.liste.append(autre_ville)\n",
    "        return self\n",
    "    def __str__(self):\n",
    "        message=\"\"\n",
    "        for ville in self.liste:\n",
    "            message+=str(ville)+'\\n'\n",
    "        return message"
   ]
  },
  {
   "cell_type": "code",
   "execution_count": 35,
   "metadata": {},
   "outputs": [],
   "source": [
    "# Créer une collection de deux villes\n",
    "villes=Villes()\n",
    "v1 = Ville('Tokyo',20,13)\n",
    "villes += v1\n",
    "v2 = Ville('Paris',30,15)\n",
    "villes += v2"
   ]
  },
  {
   "cell_type": "code",
   "execution_count": 36,
   "metadata": {},
   "outputs": [
    {
     "name": "stdout",
     "output_type": "stream",
     "text": [
      "Tokyo[indice de pollution=20.00,population=13.00]\n",
      "Paris[indice de pollution=30.00,population=15.00]\n",
      "\n"
     ]
    }
   ],
   "source": [
    "# Afficher la collection des villes\n",
    "print(villes)"
   ]
  },
  {
   "cell_type": "markdown",
   "metadata": {},
   "source": [
    "<b>Optionnel 1 :  Rendre l'objet villes iterable</b>\n",
    "\n",
    "On veut rendre la classe `Villes` <font color='red'>itérable</font>.\n",
    "<br> C'est à dire, on peut reitérer avec une boucle `for` sur un objet de type `Villes`:\n",
    "<br>-> Exemple:\n",
    "        \n",
    "        for ville in villes :\n",
    "            # code\n",
    "\n",
    "Pour le faire, on doit définir les deux méthodes suivantes dans la classe `Villes`:\n",
    "- `__iter__()` :\n",
    "    - Elle ne prend pas d'argument\n",
    "    - Elle est appelée systémtaiquement par la boucle `for` avant de réitirer sur l'objet de type `Villes`.\n",
    "    - Elle déclare un attribut `self.index` et l'initialise à 0\n",
    "    - Elle retourne l'objet `self` mis à jour , càd avec `self.index=0`\n",
    "- `__next__()` :\n",
    "    - Elle est appelée systématiquement par la boucle `for` au debut de chaque itération sur l'objet de type `Villes`\n",
    "    - Elle retourne la case d'indice `self.index`\n",
    "    - Elle incrémente `self.index`"
   ]
  },
  {
   "cell_type": "code",
   "execution_count": 41,
   "metadata": {},
   "outputs": [],
   "source": [
    "class Villes:\n",
    "    def __init__(self):\n",
    "        self.liste  = []\n",
    "    def __len__(self):\n",
    "        return len(self.liste)\n",
    "    def __iadd__(self, autre_ville):\n",
    "        self.liste.append(autre_ville)\n",
    "        return self\n",
    "    def __str__(self):\n",
    "        message=\"\"\n",
    "        for ville in self.liste:\n",
    "            message+=str(ville)+'\\n'\n",
    "        return message\n",
    "    def __iter__(self):\n",
    "        self.index = 0\n",
    "        return self\n",
    "    def __next__(self):\n",
    "        if self.index < len(self.liste):\n",
    "            ville = self.liste[self.index]\n",
    "            self.index += 1\n",
    "            return ville\n",
    "        else:\n",
    "            raise StopIteration"
   ]
  },
  {
   "cell_type": "code",
   "execution_count": 42,
   "metadata": {},
   "outputs": [
    {
     "name": "stdout",
     "output_type": "stream",
     "text": [
      "Tokyo[indice de pollution=20.00,population=13.00]\n",
      "Paris[indice de pollution=30.00,population=15.00]\n"
     ]
    }
   ],
   "source": [
    "villes=Villes()\n",
    "v1 = Ville('Tokyo',20,13)\n",
    "villes += v1\n",
    "v2 = Ville('Paris',30,15)\n",
    "villes += v2\n",
    "# Parcourir l'objet villes avec la boucle for\n",
    "for ville in villes:\n",
    "    print(ville)"
   ]
  },
  {
   "cell_type": "markdown",
   "metadata": {},
   "source": [
    "<b>Optionnel 2 :  Rendre l'objet villes subscriptable</b>\n",
    "\n",
    "On veut rendre la classe `Villes` <font color='red'>subscriptable</font>.\n",
    "<br> C'est à dire, on peut accéder avec des indices aux cases (objet de type Ville) de l'objet de type `Villes`:\n",
    "<br>-> Exemple: Accéder à la ième case de villes\n",
    "        \n",
    "        vills[i]\n",
    "\n",
    "Pour le faire, on doit définir les deux méthodes suivantes dans la classe `Villes`:\n",
    "- `__getitem__()`:\n",
    "        - Elle prend l'index de l'élément (case) à récupérer comme argument\n",
    "        - Elle retourne l'élement (case) à récupérer\n",
    "- `__setitem__()`(self, index, valeur):\n",
    "        - Elle prend l'index de l'élément (case) à modifier et la valeur à y mettre comme arguments\n",
    "        - Elle ne retourne rien"
   ]
  },
  {
   "cell_type": "code",
   "execution_count": 44,
   "metadata": {},
   "outputs": [],
   "source": [
    "class Villes:\n",
    "    def __init__(self):\n",
    "        self.liste  = []\n",
    "    def __len__(self):\n",
    "        return len(self.liste)\n",
    "    def __iadd__(self, autre_ville):\n",
    "        self.liste.append(autre_ville)\n",
    "        return self\n",
    "    def __str__(self):\n",
    "        message=\"\"\n",
    "        for ville in self.liste:\n",
    "            message+=str(ville)+'\\n'\n",
    "        return message\n",
    "    def __iter__(self):\n",
    "        self.index = 0\n",
    "        return self\n",
    "    def __next__(self):\n",
    "        if self.index < len(self.liste):\n",
    "            ville = self.liste[self.index]\n",
    "            self.index += 1\n",
    "            return ville\n",
    "        else:\n",
    "            raise StopIteration\n",
    "    def __getitem__(self, index):\n",
    "        return self.liste[index]\n",
    "    def __setitem__(self, index, valeur):\n",
    "        self.liste[index] = valeur"
   ]
  },
  {
   "cell_type": "code",
   "execution_count": 45,
   "metadata": {},
   "outputs": [
    {
     "name": "stdout",
     "output_type": "stream",
     "text": [
      "Paris[indice de pollution=30.00,population=15.00]\n"
     ]
    }
   ],
   "source": [
    "villes=Villes()\n",
    "v1 = Ville('Tokyo',20,13)\n",
    "villes += v1\n",
    "v2 = Ville('Paris',30,15)\n",
    "villes += v2\n",
    "# Récupérer la case (ville) d'indice 1\n",
    "print(villes[1])"
   ]
  }
 ],
 "metadata": {
  "kernelspec": {
   "display_name": "venv_ds",
   "language": "python",
   "name": "python3"
  },
  "language_info": {
   "codemirror_mode": {
    "name": "ipython",
    "version": 3
   },
   "file_extension": ".py",
   "mimetype": "text/x-python",
   "name": "python",
   "nbconvert_exporter": "python",
   "pygments_lexer": "ipython3",
   "version": "3.8.3"
  }
 },
 "nbformat": 4,
 "nbformat_minor": 2
}
