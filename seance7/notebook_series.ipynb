{
 "cells": [
  {
   "cell_type": "markdown",
   "metadata": {},
   "source": [
    "<b>Objectifs:</b>\n",
    "\n",
    "En utilisant la bibliothèque pandas, savoir :\n",
    "- Manipuler les series \n",
    "- Manipuler les dataframes"
   ]
  },
  {
   "cell_type": "code",
   "execution_count": 2,
   "metadata": {},
   "outputs": [],
   "source": [
    "# Importer pandas\n",
    "import pandas as pd"
   ]
  },
  {
   "cell_type": "markdown",
   "metadata": {},
   "source": [
    "<h3>1. Séries</h3>\n",
    "\n",
    "En Pandas, un vecteur ou tableau unidimensionnel est représenté par la classe `Series`.\n",
    "\n",
    "Cette strcuture des données est utile pour :\n",
    "- représenter un individu (ayant des informations de types différents)\n",
    "- représenter une série de valeurs (de même type)"
   ]
  },
  {
   "cell_type": "markdown",
   "metadata": {},
   "source": [
    "<b>1.1. Series pour représenter un individu</b>"
   ]
  },
  {
   "cell_type": "markdown",
   "metadata": {},
   "source": [
    "<u>Création:</u>\n",
    "\n",
    "Une série est créée comme un objet de la classe `pd.Series`.\n",
    "\n",
    "On peut créer une série qui regroupe des informations de différents types. PAr exmeple, les informations d'une personne.\n",
    "\n",
    "Lors de la création de la série, on peut passer :\n",
    "- un <font color=red>dictionnaire</font>\n",
    "\n",
    "Exemple: \n",
    "\n",
    "        s_employe=pd.Series({'nom':\"Ali\",'salaire':1200.56,'age':28} , \n",
    "                    name='etudiant')\n",
    "\n",
    "- une <font color=red>liste</font>\n",
    "\n",
    "Exemple: \n",
    "\n",
    "        s_employe=pd.Series([\"Ali\",1200.56,28] , \n",
    "                        index=['nom','salaire','age'], \n",
    "                        name='etudiant')"
   ]
  },
  {
   "cell_type": "code",
   "execution_count": 3,
   "metadata": {},
   "outputs": [
    {
     "data": {
      "text/plain": [
       "nom            Ali\n",
       "salaire    1200.56\n",
       "age             28\n",
       "Name: etudiant, dtype: object"
      ]
     },
     "execution_count": 3,
     "metadata": {},
     "output_type": "execute_result"
    }
   ],
   "source": [
    "# En utilisant un dictionnaire\n",
    "s_employe=pd.Series({'nom':\"Ali\",'salaire':1200.56,'age':28} , \n",
    "                    name='etudiant')\n",
    "s_employe"
   ]
  },
  {
   "cell_type": "code",
   "execution_count": 77,
   "metadata": {},
   "outputs": [
    {
     "data": {
      "text/plain": [
       "nom            Ali\n",
       "salaire    1200.56\n",
       "age             28\n",
       "Name: etudiant, dtype: object"
      ]
     },
     "execution_count": 77,
     "metadata": {},
     "output_type": "execute_result"
    }
   ],
   "source": [
    "# En utilisant des listes\n",
    "s_employe=pd.Series([\"Ali\",1200.56,28] , \n",
    "                        index=['nom','salaire','age'], \n",
    "                        name='etudiant')\n",
    "s_employe"
   ]
  },
  {
   "cell_type": "markdown",
   "metadata": {},
   "source": [
    "<b>1.2. Series pour représenter une série de valeurs</b>"
   ]
  },
  {
   "cell_type": "markdown",
   "metadata": {},
   "source": [
    "<u>Création :</u>\n",
    "\n",
    "La série est créée comme un objet de la classe `pd.Series` en utilisant une liste (comme argument)\n",
    "\n",
    "Une série contenant des valeurs de même type (nature) plus utile pour effectuer des statistiques, par exemple :\n",
    "\n",
    "- une série de valeurs d'âge des personnes, indexée par leurs noms\n",
    "- une série de valeurs de température indexée par la date-heure de mesure\n",
    "- ....\n",
    "\n",
    "Exemple :\n",
    "\n",
    "    s_ages=pd.Series([28,30,25,41], \n",
    "                 index=['Ali','Sonia','Rahma','Walid'], \n",
    "                 name='ages', \n",
    "                 dtype=np.int16)"
   ]
  },
  {
   "cell_type": "code",
   "execution_count": 6,
   "metadata": {},
   "outputs": [
    {
     "data": {
      "text/plain": [
       "Ali      28\n",
       "Sonia    30\n",
       "Rahma    25\n",
       "Walid    41\n",
       "Name: ages, dtype: int16"
      ]
     },
     "execution_count": 6,
     "metadata": {},
     "output_type": "execute_result"
    }
   ],
   "source": [
    "import numpy as np\n",
    "s_ages= s_ages=pd.Series([28,30,25,41],\n",
    "                 index=['Ali','Sonia','Rahma','Walid'], \n",
    "                 name='ages', \n",
    "                 dtype=np.int16)\n",
    "s_ages"
   ]
  },
  {
   "cell_type": "markdown",
   "metadata": {},
   "source": [
    "<b>1.3. Propriétés de Series:</b>\n",
    "\n",
    "Une série a plusieurs propriétés :\n",
    "- `dtype`\n",
    "- `shape`\n",
    "- `index`\n",
    "- `name`\n",
    "- `values`\n",
    "- ....\n",
    "\n",
    "Note: \n",
    "- Une série Pandas et un vecteur Numpy ont en commun les propriétés `dtype` et `shape`. \n",
    "- Ce qui distingue une série Pandas par rapport à un vecteur Numpy sont les propriétés `index` et `name`"
   ]
  },
  {
   "cell_type": "code",
   "execution_count": 7,
   "metadata": {},
   "outputs": [
    {
     "data": {
      "text/plain": [
       "'ages'"
      ]
     },
     "execution_count": 7,
     "metadata": {},
     "output_type": "execute_result"
    }
   ],
   "source": [
    "s_ages.name"
   ]
  },
  {
   "cell_type": "code",
   "execution_count": 8,
   "metadata": {},
   "outputs": [
    {
     "data": {
      "text/plain": [
       "Index(['Ali', 'Sonia', 'Rahma', 'Walid'], dtype='object')"
      ]
     },
     "execution_count": 8,
     "metadata": {},
     "output_type": "execute_result"
    }
   ],
   "source": [
    "s_ages.index"
   ]
  },
  {
   "cell_type": "code",
   "execution_count": 9,
   "metadata": {},
   "outputs": [
    {
     "data": {
      "text/plain": [
       "dtype('int16')"
      ]
     },
     "execution_count": 9,
     "metadata": {},
     "output_type": "execute_result"
    }
   ],
   "source": [
    "s_ages.dtype"
   ]
  },
  {
   "cell_type": "code",
   "execution_count": 10,
   "metadata": {},
   "outputs": [
    {
     "data": {
      "text/plain": [
       "(4,)"
      ]
     },
     "execution_count": 10,
     "metadata": {},
     "output_type": "execute_result"
    }
   ],
   "source": [
    "s_ages.shape"
   ]
  },
  {
   "cell_type": "code",
   "execution_count": 11,
   "metadata": {},
   "outputs": [
    {
     "data": {
      "text/plain": [
       "array([28, 30, 25, 41], dtype=int16)"
      ]
     },
     "execution_count": 11,
     "metadata": {},
     "output_type": "execute_result"
    }
   ],
   "source": [
    "s_ages.values"
   ]
  },
  {
   "cell_type": "markdown",
   "metadata": {},
   "source": [
    "<b>1.4. Opérations de base sur Series</b>"
   ]
  },
  {
   "cell_type": "markdown",
   "metadata": {},
   "source": [
    "Deux opérations de base sont possibles avec les séries :\n",
    "\n",
    "<b>1.4.1. Indexation :</b>\n",
    "\n",
    "Pour accéder aux éléments de la série, on peut utiliser :"
   ]
  },
  {
   "cell_type": "markdown",
   "metadata": {},
   "source": [
    "<u>Indexation avec indices numériques en utilisant l'opérateur iloc[]:</u>\n",
    "\n",
    "Exemple: Récupérer la première valeur de la série\n",
    "\n",
    "On peut le faire avec `s_ages.iloc[0]` o ubien totu court `s_ages[0]`"
   ]
  },
  {
   "cell_type": "code",
   "execution_count": 14,
   "metadata": {},
   "outputs": [
    {
     "data": {
      "text/plain": [
       "28"
      ]
     },
     "execution_count": 14,
     "metadata": {},
     "output_type": "execute_result"
    }
   ],
   "source": [
    "# En utilisant iloc[0]\n",
    "s_ages.iloc[0]"
   ]
  },
  {
   "cell_type": "code",
   "execution_count": 15,
   "metadata": {},
   "outputs": [
    {
     "data": {
      "text/plain": [
       "28"
      ]
     },
     "execution_count": 15,
     "metadata": {},
     "output_type": "execute_result"
    }
   ],
   "source": [
    "# En utilisant [0] tout court\n",
    "s_ages[0]"
   ]
  },
  {
   "cell_type": "markdown",
   "metadata": {},
   "source": [
    "Exemple : récupérer la dernière valeur de la série\n",
    "\n",
    "En utilisant `s_ages.iloc[-1]`"
   ]
  },
  {
   "cell_type": "code",
   "execution_count": 16,
   "metadata": {},
   "outputs": [
    {
     "data": {
      "text/plain": [
       "41"
      ]
     },
     "execution_count": 16,
     "metadata": {},
     "output_type": "execute_result"
    }
   ],
   "source": [
    "s_ages.iloc[-1]"
   ]
  },
  {
   "cell_type": "markdown",
   "metadata": {},
   "source": [
    "En utilisant `s_ages[-1]`"
   ]
  },
  {
   "cell_type": "code",
   "execution_count": 17,
   "metadata": {},
   "outputs": [
    {
     "data": {
      "text/plain": [
       "41"
      ]
     },
     "execution_count": 17,
     "metadata": {},
     "output_type": "execute_result"
    }
   ],
   "source": [
    "s_ages[-1]"
   ]
  },
  {
   "cell_type": "markdown",
   "metadata": {},
   "source": [
    "<u>indexation avec les labels en utilisant l'opérateur loc[] :</u>\n",
    "\n",
    "Exemple : Récupérer l'age de Ali\n",
    "\n",
    "En utilisant `s_ages.loc['Ali']`"
   ]
  },
  {
   "cell_type": "code",
   "execution_count": 18,
   "metadata": {},
   "outputs": [
    {
     "data": {
      "text/plain": [
       "28"
      ]
     },
     "execution_count": 18,
     "metadata": {},
     "output_type": "execute_result"
    }
   ],
   "source": [
    "# Age d'Ali\n",
    "s_ages['Ali']"
   ]
  },
  {
   "cell_type": "markdown",
   "metadata": {},
   "source": [
    "En utilisant `s_ages['Ali']`"
   ]
  },
  {
   "cell_type": "code",
   "execution_count": 19,
   "metadata": {},
   "outputs": [
    {
     "data": {
      "text/plain": [
       "28"
      ]
     },
     "execution_count": 19,
     "metadata": {},
     "output_type": "execute_result"
    }
   ],
   "source": [
    "s_ages['Ali']"
   ]
  },
  {
   "cell_type": "markdown",
   "metadata": {},
   "source": [
    "<b>1.4.2. Slicing :</b>\n",
    "\n",
    "Pour extraire une sous-série d'une série, on peut le faire avec :\n",
    "\n",
    "<u>Slicing avec indices numériques en utilisant l'opérateur iloc[]:</u>\n",
    "\n",
    "Exemple: Les deux premieres valeurs\n",
    "\n",
    "En utlisant `s_ages.iloc[:2]`"
   ]
  },
  {
   "cell_type": "code",
   "execution_count": 20,
   "metadata": {},
   "outputs": [
    {
     "data": {
      "text/plain": [
       "Ali      28\n",
       "Sonia    30\n",
       "Name: ages, dtype: int16"
      ]
     },
     "execution_count": 20,
     "metadata": {},
     "output_type": "execute_result"
    }
   ],
   "source": [
    "# Les deux premieres valeurs d'age\n",
    "s_ages.iloc[:2]"
   ]
  },
  {
   "cell_type": "markdown",
   "metadata": {},
   "source": [
    "En utlisant `s_ages[:2]`"
   ]
  },
  {
   "cell_type": "code",
   "execution_count": 21,
   "metadata": {},
   "outputs": [
    {
     "data": {
      "text/plain": [
       "Ali      28\n",
       "Sonia    30\n",
       "Name: ages, dtype: int16"
      ]
     },
     "execution_count": 21,
     "metadata": {},
     "output_type": "execute_result"
    }
   ],
   "source": [
    "s_ages[:2]"
   ]
  },
  {
   "cell_type": "markdown",
   "metadata": {},
   "source": [
    "<u>Slicing avec les labels en utilisant l'opérateur loc[] :</u>\n",
    "\n",
    "Exemple: Les ages de 'Ali' et 'Sonia'\n",
    "\n",
    "     `s_ages.loc[['Ali','Sonia']]`"
   ]
  },
  {
   "cell_type": "code",
   "execution_count": 23,
   "metadata": {},
   "outputs": [
    {
     "data": {
      "text/plain": [
       "Ali      28\n",
       "Sonia    30\n",
       "Name: ages, dtype: int16"
      ]
     },
     "execution_count": 23,
     "metadata": {},
     "output_type": "execute_result"
    }
   ],
   "source": [
    "# Les deux premieres valeurs d'age\n",
    "s_ages.loc[['Ali','Sonia']]"
   ]
  },
  {
   "cell_type": "markdown",
   "metadata": {},
   "source": [
    "<u>Slicing sans utiliser ni `iloc[]` ni `loc[]`:</u>\n",
    "\n",
    "Exemple:\n",
    "\n",
    "        s_ages[['Ali','Sonia']]"
   ]
  },
  {
   "cell_type": "code",
   "execution_count": 24,
   "metadata": {},
   "outputs": [
    {
     "data": {
      "text/plain": [
       "Ali      28\n",
       "Sonia    30\n",
       "Name: ages, dtype: int16"
      ]
     },
     "execution_count": 24,
     "metadata": {},
     "output_type": "execute_result"
    }
   ],
   "source": [
    "s_ages[['Ali','Sonia']]"
   ]
  },
  {
   "cell_type": "markdown",
   "metadata": {},
   "source": [
    "<b>1.5. Fonctions utiles:</b>\n",
    "\n",
    "Des fonctions prédéfinies utiles associées à la série sont :\n",
    "- `to_list()` : pour convertir l'index + les valeurs de la série en un dcitionnaire\n",
    "- `to_dict()` : pour convertir les valeurs de la série en une liste\n",
    "- `max()`\n",
    "- `min()`\n",
    "- `mean()`\n",
    "- `argmin()`\n",
    "- `argmax()`\n",
    "- `argsort()`\n",
    "- `sort_index()`\n",
    "- `sort_values()`\n",
    "- ...."
   ]
  },
  {
   "cell_type": "code",
   "execution_count": 26,
   "metadata": {},
   "outputs": [
    {
     "data": {
      "text/plain": [
       "[28, 30, 25, 41]"
      ]
     },
     "execution_count": 26,
     "metadata": {},
     "output_type": "execute_result"
    }
   ],
   "source": [
    "# convertir en liste\n",
    "s_ages.to_list()"
   ]
  },
  {
   "cell_type": "code",
   "execution_count": 27,
   "metadata": {},
   "outputs": [
    {
     "data": {
      "text/plain": [
       "{'Ali': 28, 'Sonia': 30, 'Rahma': 25, 'Walid': 41}"
      ]
     },
     "execution_count": 27,
     "metadata": {},
     "output_type": "execute_result"
    }
   ],
   "source": [
    "# convertir en dictionnaire\n",
    "s_ages.to_dict()"
   ]
  },
  {
   "cell_type": "code",
   "execution_count": 28,
   "metadata": {},
   "outputs": [
    {
     "data": {
      "text/plain": [
       "41"
      ]
     },
     "execution_count": 28,
     "metadata": {},
     "output_type": "execute_result"
    }
   ],
   "source": [
    "# L'age max\n",
    "s_ages.max()"
   ]
  },
  {
   "cell_type": "code",
   "execution_count": 30,
   "metadata": {},
   "outputs": [
    {
     "data": {
      "text/plain": [
       "25"
      ]
     },
     "execution_count": 30,
     "metadata": {},
     "output_type": "execute_result"
    }
   ],
   "source": [
    "# L'age min\n",
    "s_ages.min()"
   ]
  },
  {
   "cell_type": "code",
   "execution_count": 29,
   "metadata": {},
   "outputs": [
    {
     "data": {
      "text/plain": [
       "31.0"
      ]
     },
     "execution_count": 29,
     "metadata": {},
     "output_type": "execute_result"
    }
   ],
   "source": [
    "# L'age moyen\n",
    "s_ages.mean()"
   ]
  }
 ],
 "metadata": {
  "kernelspec": {
   "display_name": "venv_ds",
   "language": "python",
   "name": "python3"
  },
  "language_info": {
   "codemirror_mode": {
    "name": "ipython",
    "version": 3
   },
   "file_extension": ".py",
   "mimetype": "text/x-python",
   "name": "python",
   "nbconvert_exporter": "python",
   "pygments_lexer": "ipython3",
   "version": "3.8.3"
  }
 },
 "nbformat": 4,
 "nbformat_minor": 2
}
