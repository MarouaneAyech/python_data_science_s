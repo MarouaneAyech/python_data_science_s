{
 "cells": [
  {
   "cell_type": "markdown",
   "metadata": {},
   "source": [
    "<h3>TD n°1 : Concepts fondamentaux en Programmation Python</h3>"
   ]
  },
  {
   "cell_type": "markdown",
   "metadata": {},
   "source": [
    "<b>Exercice 1:</b>\n",
    "\n",
    "On veut collecter les informations des produits et leurs faire plusieurs traitements. Veuillez suivre les étapes suivantes :"
   ]
  },
  {
   "cell_type": "markdown",
   "metadata": {},
   "source": [
    "1. Déclarer 3 listes vides : noms, puhts et quantites."
   ]
  },
  {
   "cell_type": "code",
   "execution_count": null,
   "metadata": {},
   "outputs": [],
   "source": []
  },
  {
   "cell_type": "markdown",
   "metadata": {},
   "source": [
    "2. Saisir les informations de 3 produits : nom, puht (prix unitaire hors taxe) et quantité et les ajouter dans les listes concernées."
   ]
  },
  {
   "cell_type": "code",
   "execution_count": null,
   "metadata": {},
   "outputs": [],
   "source": []
  },
  {
   "cell_type": "markdown",
   "metadata": {},
   "source": [
    "3. Filtrer dans une liste <b>nom_chers</b> seulement les noms des produits ayant puht>1000."
   ]
  },
  {
   "cell_type": "code",
   "execution_count": null,
   "metadata": {},
   "outputs": [],
   "source": []
  },
  {
   "cell_type": "markdown",
   "metadata": {},
   "source": [
    "4. Ajouter le produit ayant les informations suivantes nom=\"TV\", puht=1200.7654 et quantite=5 dans les listes"
   ]
  },
  {
   "cell_type": "markdown",
   "metadata": {},
   "source": []
  },
  {
   "cell_type": "markdown",
   "metadata": {},
   "source": [
    "5. Calculer les puttcs des produits et les mettre dans la liste <b>puttcs</b>\n",
    "\n",
    "    puttc d'un produit = puht x (1+tva)\n",
    "\n",
    "    Tel que tva=10% pour tous les produits"
   ]
  },
  {
   "cell_type": "code",
   "execution_count": null,
   "metadata": {},
   "outputs": [],
   "source": []
  },
  {
   "cell_type": "markdown",
   "metadata": {},
   "source": [
    "6. Calculer les montants des produits et les mettre dans la liste <b>montants</b>\n",
    "\n",
    "    montant d'un produit = puttc x quantite"
   ]
  },
  {
   "cell_type": "markdown",
   "metadata": {},
   "source": [
    "7. Afficher les informations du produit ayant le montant maximal"
   ]
  },
  {
   "cell_type": "code",
   "execution_count": null,
   "metadata": {},
   "outputs": [],
   "source": []
  },
  {
   "cell_type": "markdown",
   "metadata": {},
   "source": [
    "8. Afficher les noms des produits triés selon leurs montants de le plus elevé vers le plus faible."
   ]
  },
  {
   "cell_type": "code",
   "execution_count": null,
   "metadata": {},
   "outputs": [],
   "source": []
  },
  {
   "cell_type": "markdown",
   "metadata": {},
   "source": [
    "<b>Exercice 2:</b>\n",
    "\n",
    "On veut collecter les indices de pollution des villes métropolitaines : London, Paris, Tokyo et Bejing\n",
    "\n",
    "Puis, on veut leurs faire des simples statistiques."
   ]
  },
  {
   "cell_type": "markdown",
   "metadata": {},
   "source": [
    "1. Déclarer un dictionnaire vide et l'appeler <b>villes</b>"
   ]
  },
  {
   "cell_type": "code",
   "execution_count": null,
   "metadata": {},
   "outputs": [],
   "source": []
  },
  {
   "cell_type": "markdown",
   "metadata": {},
   "source": [
    "2. Saisir et ajouter le nom et l'indice de pollution des villes mentionnées dans l'énoncé.\n",
    "\n",
    "<u>Notes :</u> \n",
    "- L'indice doit être une valeur entre 10 et 50\n",
    "- Dans le dictionnaire, le nom de la ville est la clé et son indice est la valeur"
   ]
  },
  {
   "cell_type": "code",
   "execution_count": null,
   "metadata": {},
   "outputs": [],
   "source": [
    "# Définir une fonction qui permet de saisir et ajouter les informations d'une ville dans le dictionnaire. \n",
    "# Cette fonction retourne Vrai si l'indice est valide Sinon elle retourne Faux\n",
    "\n"
   ]
  },
  {
   "cell_type": "code",
   "execution_count": null,
   "metadata": {},
   "outputs": [],
   "source": [
    "# Saisir les informations des villes en utilisant la fonction définie\n"
   ]
  },
  {
   "cell_type": "markdown",
   "metadata": {},
   "source": [
    "3. Déterminer le nom de la ville la moins polluée (ayant l'indice le plus faible)"
   ]
  },
  {
   "cell_type": "code",
   "execution_count": null,
   "metadata": {},
   "outputs": [],
   "source": []
  }
 ],
 "metadata": {
  "language_info": {
   "name": "python"
  }
 },
 "nbformat": 4,
 "nbformat_minor": 2
}
