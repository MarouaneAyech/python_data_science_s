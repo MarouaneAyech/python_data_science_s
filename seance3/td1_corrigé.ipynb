{
 "cells": [
  {
   "cell_type": "markdown",
   "metadata": {},
   "source": [
    "<h3>Correction de TD n°1 : Concepts fondamentaux en Programmation Python</h3>"
   ]
  },
  {
   "cell_type": "markdown",
   "metadata": {},
   "source": [
    "<b>Exercice 1:</b>\n",
    "\n",
    "On veut collecter les informations des produits et leurs faire plusieurs traitements. Veuillez suivre les étapes suivantes :"
   ]
  },
  {
   "cell_type": "markdown",
   "metadata": {},
   "source": [
    "1. Déclarer 3 listes vides : noms, puhts et quantites."
   ]
  },
  {
   "cell_type": "code",
   "execution_count": 15,
   "metadata": {},
   "outputs": [],
   "source": [
    "noms=[]\n",
    "puhts=[]\n",
    "quantites=[]"
   ]
  },
  {
   "cell_type": "markdown",
   "metadata": {},
   "source": [
    "2. Saisir les informations de 3 produits : nom, puht (prix unitaire hors taxe) et quantité et les ajouter dans les listes concernées."
   ]
  },
  {
   "cell_type": "code",
   "execution_count": 16,
   "metadata": {},
   "outputs": [],
   "source": [
    "for i in range(3):\n",
    "    nom=input('Entere le nom de produit:')\n",
    "    puht=float(input('Entere le prix hors taxe de produit:'))\n",
    "    quantite=int(input('Entere la quantité de produit:'))\n",
    "    noms.append(nom)\n",
    "    puhts.append(puht)\n",
    "    quantites.append(quantite)"
   ]
  },
  {
   "cell_type": "code",
   "execution_count": 17,
   "metadata": {},
   "outputs": [
    {
     "data": {
      "text/plain": [
       "['RFG', 'MO', 'FOUR']"
      ]
     },
     "execution_count": 17,
     "metadata": {},
     "output_type": "execute_result"
    }
   ],
   "source": [
    "noms"
   ]
  },
  {
   "cell_type": "code",
   "execution_count": 18,
   "metadata": {},
   "outputs": [
    {
     "data": {
      "text/plain": [
       "[2100.76, 350.7654, 400.54]"
      ]
     },
     "execution_count": 18,
     "metadata": {},
     "output_type": "execute_result"
    }
   ],
   "source": [
    "puhts"
   ]
  },
  {
   "cell_type": "code",
   "execution_count": 19,
   "metadata": {},
   "outputs": [
    {
     "data": {
      "text/plain": [
       "[3, 20, 10]"
      ]
     },
     "execution_count": 19,
     "metadata": {},
     "output_type": "execute_result"
    }
   ],
   "source": [
    "quantites"
   ]
  },
  {
   "cell_type": "markdown",
   "metadata": {},
   "source": [
    "3. Filtrer dans une liste <b>nom_chers</b> seulement les noms des produits ayant puht>1000."
   ]
  },
  {
   "cell_type": "code",
   "execution_count": 20,
   "metadata": {},
   "outputs": [],
   "source": [
    "noms_chers=[]\n",
    "for i in range(len(noms)):\n",
    "    if puhts[i]>1000:\n",
    "        noms_chers.append(noms[i])"
   ]
  },
  {
   "cell_type": "code",
   "execution_count": 21,
   "metadata": {},
   "outputs": [
    {
     "data": {
      "text/plain": [
       "['RFG']"
      ]
     },
     "execution_count": 21,
     "metadata": {},
     "output_type": "execute_result"
    }
   ],
   "source": [
    "noms_chers"
   ]
  },
  {
   "cell_type": "markdown",
   "metadata": {},
   "source": [
    "4. Ajouter le produit ayant les informations suivantes nom=\"TV\", puht=1200.7654 et quantite=5 dans les listes"
   ]
  },
  {
   "cell_type": "code",
   "execution_count": 22,
   "metadata": {},
   "outputs": [],
   "source": [
    "noms.append(\"TV\")\n",
    "puhts.append(1200.7654)\n",
    "quantites.append(5)"
   ]
  },
  {
   "cell_type": "code",
   "execution_count": 23,
   "metadata": {},
   "outputs": [
    {
     "data": {
      "text/plain": [
       "['RFG', 'MO', 'FOUR', 'TV']"
      ]
     },
     "execution_count": 23,
     "metadata": {},
     "output_type": "execute_result"
    }
   ],
   "source": [
    "noms"
   ]
  },
  {
   "cell_type": "code",
   "execution_count": 24,
   "metadata": {},
   "outputs": [
    {
     "data": {
      "text/plain": [
       "[2100.76, 350.7654, 400.54, 1200.7654]"
      ]
     },
     "execution_count": 24,
     "metadata": {},
     "output_type": "execute_result"
    }
   ],
   "source": [
    "puhts"
   ]
  },
  {
   "cell_type": "code",
   "execution_count": 25,
   "metadata": {},
   "outputs": [
    {
     "data": {
      "text/plain": [
       "[3, 20, 10, 5]"
      ]
     },
     "execution_count": 25,
     "metadata": {},
     "output_type": "execute_result"
    }
   ],
   "source": [
    "quantites"
   ]
  },
  {
   "cell_type": "markdown",
   "metadata": {},
   "source": [
    "5. Calculer les puttcs des produits et les mettre dans la liste <b>puttcs</b>\n",
    "\n",
    "    puttc d'un produit = puht x (1+tva)\n",
    "\n",
    "    Tel que tva=10% pour tous les produits"
   ]
  },
  {
   "cell_type": "code",
   "execution_count": 26,
   "metadata": {},
   "outputs": [],
   "source": [
    "tva=0.1\n",
    "puttcs=[]\n",
    "for i in range(len(noms)):\n",
    "    puttc=puhts[i]*(1+tva)\n",
    "    puttcs.append(puttc)"
   ]
  },
  {
   "cell_type": "code",
   "execution_count": 27,
   "metadata": {},
   "outputs": [
    {
     "data": {
      "text/plain": [
       "[2310.8360000000002, 385.84194, 440.59400000000005, 1320.84194]"
      ]
     },
     "execution_count": 27,
     "metadata": {},
     "output_type": "execute_result"
    }
   ],
   "source": [
    "puttcs"
   ]
  },
  {
   "cell_type": "markdown",
   "metadata": {},
   "source": [
    "6. Calculer les montants des produits et les mettre dans la liste <b>montants</b>\n",
    "\n",
    "    montant d'un produit = puttc x quantite"
   ]
  },
  {
   "cell_type": "code",
   "execution_count": 28,
   "metadata": {},
   "outputs": [],
   "source": [
    "montants=[]\n",
    "for i in range(len(noms)):\n",
    "    montant=puttcs[i]*quantites[i]\n",
    "    montants.append(montant)"
   ]
  },
  {
   "cell_type": "code",
   "execution_count": 29,
   "metadata": {},
   "outputs": [
    {
     "data": {
      "text/plain": [
       "[6932.508000000001, 7716.8388, 4405.9400000000005, 6604.2097]"
      ]
     },
     "execution_count": 29,
     "metadata": {},
     "output_type": "execute_result"
    }
   ],
   "source": [
    "montants"
   ]
  },
  {
   "cell_type": "markdown",
   "metadata": {},
   "source": [
    "7. Afficher les informations du produit ayant le montant maximal"
   ]
  },
  {
   "cell_type": "code",
   "execution_count": 30,
   "metadata": {},
   "outputs": [],
   "source": [
    "montant_max=montants[0]\n",
    "nom_montant_max=noms[0]\n",
    "for i in range(1,len(noms)):\n",
    "    if montant_max<montants[i]:\n",
    "        nom_montant_max=noms[i]"
   ]
  },
  {
   "cell_type": "code",
   "execution_count": 31,
   "metadata": {},
   "outputs": [
    {
     "data": {
      "text/plain": [
       "'MO'"
      ]
     },
     "execution_count": 31,
     "metadata": {},
     "output_type": "execute_result"
    }
   ],
   "source": [
    "nom_montant_max"
   ]
  },
  {
   "cell_type": "markdown",
   "metadata": {},
   "source": [
    "8. Afficher les noms des produits triés selon leurs montants de le plus elevé vers le plus faible."
   ]
  },
  {
   "cell_type": "code",
   "execution_count": 32,
   "metadata": {},
   "outputs": [],
   "source": [
    "montants_tri=montants.copy()\n",
    "noms_tri=noms.copy()"
   ]
  },
  {
   "cell_type": "code",
   "execution_count": 33,
   "metadata": {},
   "outputs": [],
   "source": [
    "# On utilise le tri par selection par exemple\n",
    "for i in range(len(montants_tri)-1):\n",
    "    for j in range(i,len(montants_tri)):\n",
    "        if montants_tri[j]<montants_tri[i]:\n",
    "            montants_tri[i],montants_tri[j]=montants_tri[j],montants_tri[i]\n",
    "            noms_tri[i],noms_tri[j]=noms_tri[j],noms_tri[i]"
   ]
  },
  {
   "cell_type": "code",
   "execution_count": 52,
   "metadata": {},
   "outputs": [
    {
     "name": "stdout",
     "output_type": "stream",
     "text": [
      "Les produits triés selon leurs montants (tri ascendant):\n",
      "Nom       |Montant   \n",
      "FOUR      |4405.9    \n",
      "TV        |6604.2    \n",
      "RFG       |6932.5    \n",
      "MO        |7716.8    \n"
     ]
    }
   ],
   "source": [
    "print('Les produits triés selon leurs montants (tri ascendant):')\n",
    "print('%-10s|%-10s' % ('Nom','Montant'))\n",
    "for i in range(len(noms_tri)):\n",
    "    print('%-10s|%-10.1f' % (noms_tri[i],montants_tri[i]))"
   ]
  },
  {
   "cell_type": "markdown",
   "metadata": {},
   "source": [
    "<b>Exercice 2:</b>\n",
    "\n",
    "On veut collecter les indices de pollution des villes métropolitaines : London, Paris, Tokyo et Bejing\n",
    "\n",
    "Puis, on veut leurs faire des simples statistiques."
   ]
  },
  {
   "cell_type": "markdown",
   "metadata": {},
   "source": [
    "1. Déclarer un dictionnaire vide et l'appeler <b>villes</b>"
   ]
  },
  {
   "cell_type": "code",
   "execution_count": 39,
   "metadata": {},
   "outputs": [],
   "source": [
    "villes={}"
   ]
  },
  {
   "cell_type": "markdown",
   "metadata": {},
   "source": [
    "2. Saisir et ajouter le nom et l'indice de pollution des villes mentionnées dans l'énoncé.\n",
    "\n",
    "<u>Notes :</u> \n",
    "- L'indice doit être une valeur entre 10 et 50\n",
    "- Dans le dictionnaire, le nom de la ville est la clé et son indice est la valeur"
   ]
  },
  {
   "cell_type": "code",
   "execution_count": 41,
   "metadata": {},
   "outputs": [],
   "source": [
    "# Définir une fonction qui permet de saisir et ajouter les informations d'une ville dans le dictionnaire. \n",
    "# Cette fonction retourne Vrai si l'indice est valide Sinon elle retourne Faux\n",
    "def saisir_ville():\n",
    "    nom=input('Entrer le nom de la ville:')\n",
    "    indice=float(input('Entrer l\\'indice de la ville (entre 10 et 50):'))\n",
    "    if 10<=indice<=50:\n",
    "        villes[nom]=indice\n",
    "        return True\n",
    "    else:\n",
    "        return False\n"
   ]
  },
  {
   "cell_type": "code",
   "execution_count": 42,
   "metadata": {},
   "outputs": [
    {
     "name": "stdout",
     "output_type": "stream",
     "text": [
      "Indice invalide ! Répétez la saisie\n",
      "Indice invalide ! Répétez la saisie\n"
     ]
    }
   ],
   "source": [
    "# Saisir les informations des villes en utilisant la fonction définie\n",
    "for i in range(4):\n",
    "    indice_valide=False\n",
    "    while not indice_valide:\n",
    "        indice_valide=saisir_ville()\n",
    "        if not indice_valide:\n",
    "            print(\"Indice invalide ! Répétez la saisie\")"
   ]
  },
  {
   "cell_type": "code",
   "execution_count": 43,
   "metadata": {},
   "outputs": [
    {
     "data": {
      "text/plain": [
       "{'Tokyo': 25.0, 'Paris': 20.0, 'London': 45.0, 'Bejing': 50.0}"
      ]
     },
     "execution_count": 43,
     "metadata": {},
     "output_type": "execute_result"
    }
   ],
   "source": [
    "villes"
   ]
  },
  {
   "cell_type": "markdown",
   "metadata": {},
   "source": [
    "3. Déterminer le nom de la ville la moins polluée (ayant l'indice le plus faible)"
   ]
  },
  {
   "cell_type": "code",
   "execution_count": 46,
   "metadata": {},
   "outputs": [],
   "source": [
    "indice_moins_polluee=100\n",
    "nom_moins_polluee=\"\"\n",
    "for nom, indice in villes.items():\n",
    "    if indice<indice_moins_polluee:\n",
    "        indice_moins_polluee=indice\n",
    "        nom_moins_polluee=nom"
   ]
  },
  {
   "cell_type": "code",
   "execution_count": 49,
   "metadata": {},
   "outputs": [
    {
     "name": "stdout",
     "output_type": "stream",
     "text": [
      "La ville la moins polluée est Paris\n"
     ]
    }
   ],
   "source": [
    "print('La ville la moins polluée est',nom_moins_polluee)"
   ]
  },
  {
   "cell_type": "code",
   "execution_count": null,
   "metadata": {},
   "outputs": [],
   "source": []
  }
 ],
 "metadata": {
  "kernelspec": {
   "display_name": "venv_ds",
   "language": "python",
   "name": "python3"
  },
  "language_info": {
   "codemirror_mode": {
    "name": "ipython",
    "version": 3
   },
   "file_extension": ".py",
   "mimetype": "text/x-python",
   "name": "python",
   "nbconvert_exporter": "python",
   "pygments_lexer": "ipython3",
   "version": "3.8.3"
  }
 },
 "nbformat": 4,
 "nbformat_minor": 2
}
